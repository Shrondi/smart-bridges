{
  "nbformat": 4,
  "nbformat_minor": 0,
  "metadata": {
    "colab": {
      "provenance": [],
      "collapsed_sections": [
        "KKr_2CjqgmWq"
      ],
      "authorship_tag": "ABX9TyPkHFv3fqt609pvJcFMxnLP",
      "include_colab_link": true
    },
    "kernelspec": {
      "name": "python3",
      "display_name": "Python 3"
    },
    "language_info": {
      "name": "python"
    }
  },
  "cells": [
    {
      "cell_type": "markdown",
      "metadata": {
        "id": "view-in-github",
        "colab_type": "text"
      },
      "source": [
        "<a href=\"https://colab.research.google.com/github/Shrondi/smart-bridges/blob/main/visualizer_smartbridges.ipynb\" target=\"_parent\"><img src=\"https://colab.research.google.com/assets/colab-badge.svg\" alt=\"Open In Colab\"/></a>"
      ]
    },
    {
      "cell_type": "markdown",
      "source": [
        "# Importación e instalación"
      ],
      "metadata": {
        "id": "KKr_2CjqgmWq"
      }
    },
    {
      "cell_type": "code",
      "execution_count": 201,
      "metadata": {
        "id": "Q9_N94k-ArNy"
      },
      "outputs": [],
      "source": [
        "!pip install -q pandas\n",
        "!pip install -q matplotlib\n",
        "!pip install -q plotly"
      ]
    },
    {
      "cell_type": "code",
      "source": [
        "import pandas as pd\n",
        "import matplotlib.pyplot as plt\n",
        "import numpy as np\n",
        "import os\n",
        "import seaborn as sns\n",
        "from matplotlib.backends.backend_pdf import PdfPages"
      ],
      "metadata": {
        "id": "mVH1Xv96f7lq"
      },
      "execution_count": 202,
      "outputs": []
    },
    {
      "cell_type": "markdown",
      "source": [
        "# Definición funciones"
      ],
      "metadata": {
        "id": "0ek9ga-f7ip_"
      }
    },
    {
      "cell_type": "code",
      "source": [
        "def calc_offsets(df):\n",
        "\n",
        "    offsets = {}  # Diccionario\n",
        "\n",
        "    # Calcular y aplicar offset para cada acelerómetro\n",
        "    for acc_num in df['accelerometer'].unique():\n",
        "        df_acc = df[df['accelerometer'] == acc_num]\n",
        "\n",
        "        # Calcular la media de cada eje para este acelerómetro\n",
        "        mean_x = df_acc['x'].mean()\n",
        "        mean_y = df_acc['y'].mean()\n",
        "        mean_z = df_acc['z'].mean()\n",
        "\n",
        "        # Ajustar los datos restando la media y sumando 1 en Z\n",
        "        df.loc[df['accelerometer'] == acc_num, 'x'] = df_acc['x'] - mean_x\n",
        "        df.loc[df['accelerometer'] == acc_num, 'y'] = df_acc['y'] - mean_y\n",
        "        df.loc[df['accelerometer'] == acc_num, 'z'] = df_acc['z'] - mean_z + 1\n",
        "\n",
        "        # Store the calculated offsets in the dictionary\n",
        "        offsets[acc_num] = {'x': -mean_x, 'y': -mean_y, 'z': -(mean_z - 1)}\n",
        "\n",
        "    return offsets"
      ],
      "metadata": {
        "id": "ifGAKLEgQCz5"
      },
      "execution_count": 203,
      "outputs": []
    },
    {
      "cell_type": "code",
      "source": [
        "def plot_train_data(df, offsets):\n",
        "\n",
        "    fig, (axis_x, axis_y, axis_z) = plt.subplots(3, 1, figsize=(15, 20))\n",
        "\n",
        "    # Obtener el primer datetime para usarlo como titulo\n",
        "    first_datetime = df.index[0]\n",
        "\n",
        "    formatted_date = first_datetime.strftime(\"%d/%m\")  # Dia/Mes\n",
        "    formatted_time = first_datetime.strftime(\"%H:%M:%S\")  # Hora:Minutos:Segundos\n",
        "\n",
        "    # Crear titulo de la figura\n",
        "    figure_title = f\"Tren {formatted_date} {formatted_time}\"\n",
        "    fig.suptitle(figure_title, fontsize=20, fontweight='bold')\n",
        "\n",
        "    fig.subplots_adjust(hspace=0.5, top=0.92)\n",
        "\n",
        "    # Paleta de colores para los acelerometros\n",
        "    palette = sns.color_palette('bright', n_colors=8)\n",
        "\n",
        "    # Create a color map using the palette\n",
        "    colors = {\n",
        "        1: {'x': palette[0], 'y': palette[1], 'z': palette[2]},\n",
        "        2: {'x': palette[3], 'y': palette[4], 'z': palette[5]},\n",
        "        3: {'x': palette[6], 'y': palette[7], 'z': palette[0]},\n",
        "        4: {'x': palette[1], 'y': palette[2], 'z': palette[3]},\n",
        "        5: {'x': palette[4], 'y': palette[5], 'z': palette[6]},\n",
        "        6: {'x': palette[7], 'y': palette[0], 'z': palette[1]},\n",
        "        7: {'x': palette[2], 'y': palette[3], 'z': palette[4]},\n",
        "        8: {'x': palette[5], 'y': palette[6], 'z': palette[7]}\n",
        "    }\n",
        "\n",
        "    # Plotear datos\n",
        "    for acc_num in df['accelerometer'].unique():\n",
        "        df_acc = df[df['accelerometer'] == acc_num]\n",
        "        df_acc = df_acc[['x', 'y', 'z']]\n",
        "\n",
        "        # Calculate time difference in seconds\n",
        "        time_diff = (df_acc.index - df_acc.index[0]).to_series().dt.total_seconds()\n",
        "\n",
        "        # Access color using accelerometer number and axis\n",
        "        axis_x.plot(time_diff, df_acc['x'], label=f'Acel. {acc_num} (Offset: {offsets[acc_num][\"x\"]:.4f})', color=colors.get(acc_num, {}).get('x'))\n",
        "        axis_y.plot(time_diff, df_acc['y'], label=f'Acel. {acc_num} (Offset: {offsets[acc_num][\"y\"]:.4f})', color=colors.get(acc_num, {}).get('y'))\n",
        "        axis_z.plot(time_diff, df_acc['z'], label=f'Acel. {acc_num} (Offset: {offsets[acc_num][\"z\"]:.4f})', color=colors.get(acc_num, {}).get('z'))\n",
        "\n",
        "    # Configurar ejes para cada gráfica\n",
        "    for axis in [axis_x, axis_y, axis_z]:\n",
        "        axis.set_xlabel('Tiempo [s]', fontsize=12)\n",
        "        axis.set_ylabel('Aceleración [g]', fontsize=12)\n",
        "        axis.legend(loc=\"lower left\")\n",
        "        axis.grid(which='major', linestyle='--', alpha=0.5)\n",
        "        axis.grid(which='minor', linestyle=':', alpha=0.3)\n",
        "        axis.autoscale()\n",
        "\n",
        "    axis_x.set_title('Aceleración X', fontsize=14, fontweight='bold')\n",
        "    axis_y.set_title('Aceleración Y', fontsize=14, fontweight='bold')\n",
        "    axis_z.set_title('Aceleración Z', fontsize=14, fontweight='bold')\n",
        "\n",
        "    return fig, plt"
      ],
      "metadata": {
        "id": "zyxAkR4uPix1"
      },
      "execution_count": 252,
      "outputs": []
    },
    {
      "cell_type": "code",
      "source": [
        "def load_data(input_path):\n",
        "    \"\"\"Loads and processes a single CSV file.\"\"\"\n",
        "    print(f\"Cargando datos: {input_path}\")\n",
        "    try:\n",
        "        df = pd.read_csv(input_path, index_col='datetime', parse_dates=['datetime'],\n",
        "                         date_format='%Y-%m-%d %H:%M:%S.%f', dayfirst=True)\n",
        "\n",
        "        df.sort_index(inplace=True)\n",
        "\n",
        "    except Exception as e:\n",
        "        print(f\"Error al procesar el archivo {input_path}: {e}\")\n",
        "        return pd.DataFrame()\n",
        "\n",
        "    return df"
      ],
      "metadata": {
        "id": "5F19UQc1RGLi"
      },
      "execution_count": 205,
      "outputs": []
    },
    {
      "cell_type": "code",
      "source": [
        "def process_train_file(bridge_path, show=True, save=False, output_dir='./'):\n",
        "    \"\"\"\n",
        "    Plots accelerometer data from a CSV file or a directory of CSV files.\n",
        "\n",
        "    Args:\n",
        "        bridge_path (str): The path to the bridge directory containing date subfolders.\n",
        "    \"\"\"\n",
        "    # Get the bridge name from the bridge_path\n",
        "    bridge_name = os.path.basename(os.path.normpath(bridge_path))\n",
        "\n",
        "    # Create PDF filename using the bridge name\n",
        "    pdf_filename = f\"{bridge_name}.pdf\"\n",
        "    pdf_filepath = os.path.join(output_dir, pdf_filename)\n",
        "\n",
        "    if save:\n",
        "        pdf = PdfPages(pdf_filepath)\n",
        "\n",
        "    for date_folder in sorted(os.listdir(bridge_path)):\n",
        "        date_folder_path = os.path.join(bridge_path, date_folder)\n",
        "\n",
        "        # Check if it's a directory\n",
        "        if os.path.isdir(date_folder_path):\n",
        "\n",
        "            for filename in sorted([f for f in os.listdir(date_folder_path) if f.endswith(\".csv\")]):\n",
        "                filepath = os.path.join(date_folder_path, filename)\n",
        "\n",
        "                plt = None\n",
        "                fig = None\n",
        "\n",
        "                df = load_data(filepath)\n",
        "\n",
        "                if not df.empty:\n",
        "                    offsets = calc_offsets(df)\n",
        "                    fig, plt = plot_train_data(df, offsets)\n",
        "\n",
        "                    if show:\n",
        "                        plt.show()\n",
        "\n",
        "                    if save and fig is not None:\n",
        "                        pdf.savefig(fig)\n",
        "\n",
        "                        print(f\"Figura guardada en {pdf_filepath}\")\n",
        "\n",
        "                    plt.close()\n",
        "\n",
        "                else:\n",
        "                    print(f\"No se encontraron datos en: {filepath}\")\n",
        "\n",
        "    if save:\n",
        "        pdf.close()"
      ],
      "metadata": {
        "id": "x4lKlNKwPmwj"
      },
      "execution_count": 253,
      "outputs": []
    },
    {
      "cell_type": "markdown",
      "source": [
        "# Resultados"
      ],
      "metadata": {
        "id": "Sw5jbUaaTjVW"
      }
    },
    {
      "cell_type": "code",
      "source": [
        "process_train_file('Escritorio/smart-bridges/Guadiato', save=True, show=True)"
      ],
      "metadata": {
        "id": "TCjN7U60xCtz",
        "collapsed": true
      },
      "execution_count": null,
      "outputs": []
    }
  ]
}